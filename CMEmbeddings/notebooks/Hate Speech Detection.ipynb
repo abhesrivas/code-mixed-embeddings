{
 "cells": [
  {
   "cell_type": "code",
   "execution_count": 1,
   "metadata": {},
   "outputs": [],
   "source": [
    "import pandas as pd\n",
    "import re\n",
    "import string"
   ]
  },
  {
   "cell_type": "code",
   "execution_count": 2,
   "metadata": {},
   "outputs": [],
   "source": [
    "data = pd.read_csv(\"dataset/hate_speech.tsv\", sep='\\t',header=None)"
   ]
  },
  {
   "cell_type": "code",
   "execution_count": 3,
   "metadata": {},
   "outputs": [],
   "source": [
    "data.columns = [\"text\", \"label\"]"
   ]
  },
  {
   "cell_type": "code",
   "execution_count": 4,
   "metadata": {},
   "outputs": [],
   "source": [
    "data.dropna(inplace=True)"
   ]
  },
  {
   "cell_type": "code",
   "execution_count": 5,
   "metadata": {},
   "outputs": [],
   "source": [
    "data.reset_index(inplace=True)"
   ]
  },
  {
   "cell_type": "code",
   "execution_count": 6,
   "metadata": {},
   "outputs": [
    {
     "data": {
      "text/html": [
       "<div>\n",
       "<style scoped>\n",
       "    .dataframe tbody tr th:only-of-type {\n",
       "        vertical-align: middle;\n",
       "    }\n",
       "\n",
       "    .dataframe tbody tr th {\n",
       "        vertical-align: top;\n",
       "    }\n",
       "\n",
       "    .dataframe thead th {\n",
       "        text-align: right;\n",
       "    }\n",
       "</style>\n",
       "<table border=\"1\" class=\"dataframe\">\n",
       "  <thead>\n",
       "    <tr style=\"text-align: right;\">\n",
       "      <th></th>\n",
       "      <th>index</th>\n",
       "      <th>text</th>\n",
       "      <th>label</th>\n",
       "    </tr>\n",
       "  </thead>\n",
       "  <tbody>\n",
       "    <tr>\n",
       "      <th>0</th>\n",
       "      <td>0</td>\n",
       "      <td>Knowing ki Vikas kitna samjhata hai Priyanka a...</td>\n",
       "      <td>no</td>\n",
       "    </tr>\n",
       "    <tr>\n",
       "      <th>1</th>\n",
       "      <td>1</td>\n",
       "      <td>I am Muhajir .. Aur mere lye sab se Pehly Paki...</td>\n",
       "      <td>no</td>\n",
       "    </tr>\n",
       "    <tr>\n",
       "      <th>2</th>\n",
       "      <td>2</td>\n",
       "      <td>Doctor  sab sahi me ke PhD (in hate politics) ...</td>\n",
       "      <td>no</td>\n",
       "    </tr>\n",
       "    <tr>\n",
       "      <th>3</th>\n",
       "      <td>3</td>\n",
       "      <td>Poore Desh me Patel OBC me aate Hain sirf gujr...</td>\n",
       "      <td>no</td>\n",
       "    </tr>\n",
       "    <tr>\n",
       "      <th>4</th>\n",
       "      <td>4</td>\n",
       "      <td>Sarkar banne ke bad Hindu hit me ek bhi faisla...</td>\n",
       "      <td>yes</td>\n",
       "    </tr>\n",
       "  </tbody>\n",
       "</table>\n",
       "</div>"
      ],
      "text/plain": [
       "   index                                               text label\n",
       "0      0  Knowing ki Vikas kitna samjhata hai Priyanka a...    no\n",
       "1      1  I am Muhajir .. Aur mere lye sab se Pehly Paki...    no\n",
       "2      2  Doctor  sab sahi me ke PhD (in hate politics) ...    no\n",
       "3      3  Poore Desh me Patel OBC me aate Hain sirf gujr...    no\n",
       "4      4  Sarkar banne ke bad Hindu hit me ek bhi faisla...   yes"
      ]
     },
     "execution_count": 6,
     "metadata": {},
     "output_type": "execute_result"
    }
   ],
   "source": [
    "data.head()"
   ]
  },
  {
   "cell_type": "code",
   "execution_count": 7,
   "metadata": {},
   "outputs": [],
   "source": [
    "def clean(text):\n",
    "#     text = re.sub(r\"http\\S+\", \"\", text)\n",
    "    text = text.translate(str.maketrans('','',string.punctuation))\n",
    "    text = text.lower()\n",
    "    text = text.strip()\n",
    "    text = text.translate(str.maketrans('','','1234567890'))\n",
    "    \n",
    "    return text"
   ]
  },
  {
   "cell_type": "code",
   "execution_count": 8,
   "metadata": {},
   "outputs": [],
   "source": [
    "data[\"text\"] = data[\"text\"].apply(clean)"
   ]
  },
  {
   "cell_type": "code",
   "execution_count": null,
   "metadata": {},
   "outputs": [],
   "source": []
  },
  {
   "cell_type": "code",
   "execution_count": 9,
   "metadata": {},
   "outputs": [
    {
     "data": {
      "application/vnd.jupyter.widget-view+json": {
       "model_id": "a1089f4f78b846ddb77c1011c85a4c64",
       "version_major": 2,
       "version_minor": 0
      },
      "text/plain": [
       "HBox(children=(IntProgress(value=1, bar_style='info', max=1), HTML(value='')))"
      ]
     },
     "metadata": {},
     "output_type": "display_data"
    },
    {
     "name": "stdout",
     "output_type": "stream",
     "text": [
      "\n"
     ]
    }
   ],
   "source": [
    "import pandas as pd\n",
    "pd.options.display.max_columns = 200\n",
    "pd.options.mode.chained_assignment = None\n",
    "\n",
    "from nltk.tokenize import word_tokenize, sent_tokenize\n",
    "from nltk.corpus import stopwords\n",
    "stop = set(stopwords.words('english'))\n",
    "stop = list(stop)\n",
    "from string import punctuation\n",
    "from functools import reduce\n",
    "import itertools\n",
    "\n",
    "\n",
    "from collections import Counter\n",
    "import re\n",
    "import numpy as np\n",
    "\n",
    "import matplotlib.pyplot as plt\n",
    "\n",
    "from tqdm import tqdm_notebook\n",
    "tqdm_notebook().pandas()\n",
    "\n",
    "%matplotlib inline"
   ]
  },
  {
   "cell_type": "code",
   "execution_count": 10,
   "metadata": {},
   "outputs": [
    {
     "data": {
      "text/plain": [
       "4578"
      ]
     },
     "execution_count": 10,
     "metadata": {},
     "output_type": "execute_result"
    }
   ],
   "source": [
    "data[\"label\"].count()"
   ]
  },
  {
   "cell_type": "code",
   "execution_count": 11,
   "metadata": {},
   "outputs": [
    {
     "data": {
      "text/plain": [
       "<matplotlib.axes._subplots.AxesSubplot at 0x7fdaea760198>"
      ]
     },
     "execution_count": 11,
     "metadata": {},
     "output_type": "execute_result"
    },
    {
     "data": {
      "image/png": "[encoded data removed]",
      "text/plain": [
       "<Figure size 1152x648 with 1 Axes>"
      ]
     },
     "metadata": {
      "needs_background": "light"
     },
     "output_type": "display_data"
    }
   ],
   "source": [
    "data.label.value_counts(normalize=True).plot(kind='bar', grid=True, figsize=(16, 9))"
   ]
  },
  {
   "cell_type": "code",
   "execution_count": 12,
   "metadata": {
    "colab": {},
    "colab_type": "code",
    "id": "8T6A5g2DUMMn"
   },
   "outputs": [],
   "source": [
    "def load_data_and_labels():\n",
    "    \"\"\"\n",
    "    Loads MR polarity data from files, splits the data into words and generates labels.\n",
    "    Returns split sentences and labels.\n",
    "    \"\"\"\n",
    "    # Load data from files\n",
    "    examples = data['text']\n",
    "    examples = list(examples)\n",
    "    examples = [s.strip() for s in examples]\n",
    "    \n",
    "    # Split by words\n",
    "    x_text = examples\n",
    "    #x_text = [clean_str(sent) for sent in x_text]\n",
    "    #x_text = [removeNonAscii(sent) for sent in x_text]\n",
    "    x_text = [s.split(\" \") for s in x_text]\n",
    "    \n",
    "    # Generate labels\n",
    "    y = list(data['label'].map(lambda x : 1 if x=='yes' else 0))\n",
    "    \n",
    "#     print(\"load data and labels:\", [len(x_text),len(y)])\n",
    "    return [x_text, y]"
   ]
  },
  {
   "cell_type": "code",
   "execution_count": 13,
   "metadata": {
    "colab": {},
    "colab_type": "code",
    "id": "jDVPXPyhTby4"
   },
   "outputs": [],
   "source": [
    "def build_vocab(sentences):\n",
    "    \"\"\"\n",
    "    Builds a vocabulary mapping from word to index based on the sentences.\n",
    "    Returns vocabulary mapping and inverse vocabulary mapping.\n",
    "    \"\"\"\n",
    "    # Build vocabulary\n",
    "    word_counts = Counter(itertools.chain(*sentences))\n",
    "    # Mapping from index to word\n",
    "    vocabulary_inv = [x[0] for x in word_counts.most_common()]\n",
    "    # Mapping from word to index\n",
    "    vocabulary = {x: i for i, x in enumerate(vocabulary_inv)}\n",
    "    \n",
    "#     print(\"Vocabulary: \", len(vocabulary), len(vocabulary_inv))\n",
    "    return [vocabulary, vocabulary_inv]"
   ]
  },
  {
   "cell_type": "code",
   "execution_count": 14,
   "metadata": {
    "colab": {},
    "colab_type": "code",
    "id": "b386265dTgyh"
   },
   "outputs": [],
   "source": [
    "def build_input_data(sentences, labels, vocabulary):\n",
    "    \"\"\"\n",
    "    Maps sentencs and labels to vectors based on a vocabulary.\n",
    "    \"\"\"\n",
    "    x = np.array([[vocabulary[word] for word in sentence] for sentence in sentences])\n",
    "    y = np.array(labels)\n",
    "    \n",
    "#     print(\"Build input data:\", [len(x),len(y)])\n",
    "    return [x, y]\n"
   ]
  },
  {
   "cell_type": "code",
   "execution_count": 15,
   "metadata": {},
   "outputs": [],
   "source": [
    "def pad_sentences(sentences, padding_word=\"<PAD/>\"):\n",
    "    \"\"\"\n",
    "    Pads all sentences to the same length. The length is defined by the longest sentence.\n",
    "    Returns padded sentences.\n",
    "    \"\"\"\n",
    "    sequence_length = max(len(x) for x in sentences)\n",
    "    padded_sentences = []\n",
    "    for i in range(len(sentences)):\n",
    "        sentence = sentences[i]\n",
    "        num_padding = sequence_length - len(sentence)\n",
    "        new_sentence = sentence + [padding_word] * num_padding\n",
    "        padded_sentences.append(new_sentence)\n",
    "        \n",
    "   #  print(\"Padded sentences: \", len(padded_sentences))\n",
    "    return padded_sentences"
   ]
  },
  {
   "cell_type": "code",
   "execution_count": 16,
   "metadata": {
    "colab": {},
    "colab_type": "code",
    "id": "j7x7agmHTi1U"
   },
   "outputs": [],
   "source": [
    "def preprocess_data():\n",
    "    \"\"\"\n",
    "    Loads and preprocessed data for the MR dataset.\n",
    "    Returns input vectors, labels, vocabulary, and inverse vocabulary.\n",
    "    \"\"\"\n",
    "    # Load and preprocess data\n",
    "    sentences, labels = load_data_and_labels()\n",
    "    sentences_padded = pad_sentences(sentences)\n",
    "    vocabulary, vocabulary_inv = build_vocab(sentences_padded)\n",
    "    x, y = build_input_data(sentences_padded, labels, vocabulary)\n",
    "#     print(\"Preprocess load data:\", [len(x),len(y), len(vocabulary), len(vocabulary_inv)])\n",
    "    return [x, y, vocabulary, vocabulary_inv]"
   ]
  },
  {
   "cell_type": "code",
   "execution_count": 17,
   "metadata": {},
   "outputs": [],
   "source": [
    "temp = preprocess_data()"
   ]
  },
  {
   "cell_type": "code",
   "execution_count": 168,
   "metadata": {},
   "outputs": [],
   "source": [
    "sequence_length = 67\n",
    "n_words = 15292\n",
    "n_tags = 2"
   ]
  },
  {
   "cell_type": "code",
   "execution_count": 169,
   "metadata": {},
   "outputs": [],
   "source": [
    "from keras.models import Model, Input\n",
    "from keras.layers import LSTM, Embedding, Dense, TimeDistributed, Dropout, Bidirectional"
   ]
  },
  {
   "cell_type": "code",
   "execution_count": 170,
   "metadata": {},
   "outputs": [],
   "source": [
    "input = Input(shape=(sequence_length,))\n",
    "\n",
    "model = Embedding(input_dim=n_words, output_dim=50, input_length=sequence_length)(input)\n",
    "model = Dropout(0.5)(model)\n",
    "model = Bidirectional(LSTM(units=100, return_sequences=True, dropout=0.5, recurrent_dropout=0.25))(model)\n",
    "model = Dropout(0.5)(model)\n",
    "model = Bidirectional(LSTM(units=100, return_sequences=True, dropout=0.5, recurrent_dropout=0.25))(model)\n",
    "model = Dropout(0.5)(model)\n",
    "model = Bidirectional(LSTM(units=100, return_sequences=True, dropout=0.5, recurrent_dropout=0.25))(model)\n",
    "\n",
    "out = TimeDistributed(Dense(n_tags, activation=\"softmax\"))(model)  # softmax output layer"
   ]
  },
  {
   "cell_type": "code",
   "execution_count": 171,
   "metadata": {},
   "outputs": [],
   "source": [
    "model = Model(input, out)"
   ]
  },
  {
   "cell_type": "code",
   "execution_count": 172,
   "metadata": {},
   "outputs": [],
   "source": [
    "model.compile(optimizer=\"rmsprop\", loss=\"categorical_crossentropy\", metrics=[\"accuracy\"])"
   ]
  },
  {
   "cell_type": "code",
   "execution_count": 1,
   "metadata": {},
   "outputs": [],
   "source": [
    "history = model.fit(x_train, y_train, batch_size=64, epochs=5, validation_split=0.3, verbose=1)"
   ]
  },
  {
   "cell_type": "code",
   "execution_count": null,
   "metadata": {},
   "outputs": [],
   "source": [
    "hist = pd.DataFrame(history.history)"
   ]
  },
  {
   "cell_type": "code",
   "execution_count": null,
   "metadata": {},
   "outputs": [],
   "source": [
    "plt.figure(figsize=(12,12))\n",
    "plt.plot(hist[\"acc\"])\n",
    "plt.plot(hist[\"val_acc\"])\n",
    "plt.show()"
   ]
  },
  {
   "cell_type": "code",
   "execution_count": null,
   "metadata": {},
   "outputs": [],
   "source": [
    "plt.figure(figsize=(12,12))\n",
    "plt.plot(hist[\"loss\"])\n",
    "plt.plot(hist[\"val_loss\"])\n",
    "plt.show()"
   ]
  },
  {
   "cell_type": "code",
   "execution_count": null,
   "metadata": {},
   "outputs": [],
   "source": []
  },
  {
   "cell_type": "markdown",
   "metadata": {
    "colab_type": "text",
    "id": "SOaXHy9wVVcD"
   },
   "source": [
    "## CNN Model"
   ]
  },
  {
   "cell_type": "code",
   "execution_count": 132,
   "metadata": {
    "colab": {
     "base_uri": "https://localhost:8080/",
     "height": 34
    },
    "colab_type": "code",
    "id": "P8TerlL5TxXi",
    "outputId": "4b706252-d8fb-41ee-f8f1-8a894dd7e5dd",
    "scrolled": true
   },
   "outputs": [],
   "source": [
    "from tensorflow.python.keras.models import Sequential, Model\n",
    "from tensorflow.python.keras.layers import Dense, Dropout, Flatten, Input, MaxPooling1D, Convolution1D, Embedding\n",
    "from tensorflow.python.keras.layers.merge import Concatenate\n",
    "from tensorflow.python.keras.datasets import imdb\n",
    "from tensorflow.python.keras.regularizers import l2\n",
    "from tensorflow.python.keras.preprocessing import sequence\n",
    "np.random.seed(0)"
   ]
  },
  {
   "cell_type": "code",
   "execution_count": 149,
   "metadata": {
    "colab": {},
    "colab_type": "code",
    "id": "SySHFogQVchY"
   },
   "outputs": [],
   "source": [
    "# Model Hyperparameters\n",
    "embedding_dim = 50\n",
    "filter_sizes = (3, 4, 5)\n",
    "num_filters = 2\n",
    "dropout_prob = (0.7, 0.8)\n",
    "hidden_dims = 20\n",
    "\n",
    "# Training parameters\n",
    "batch_size = 20\n",
    "num_epochs = 50\n",
    "\n",
    "# Prepossessing parameters\n",
    "sequence_length = 67\n",
    "max_words = 15292"
   ]
  },
  {
   "cell_type": "code",
   "execution_count": 150,
   "metadata": {
    "colab": {},
    "colab_type": "code",
    "id": "On3Iim-WVqXz"
   },
   "outputs": [],
   "source": [
    "def load_data():\n",
    "    x, y, vocabulary, vocabulary_inv_list = preprocess_data()\n",
    "    vocabulary_inv = {key: value for key, value in enumerate(vocabulary_inv_list)}\n",
    "    \n",
    "    # Shuffle data\n",
    "    shuffle_indices = np.random.permutation(np.arange(len(y)))\n",
    "    x = x[shuffle_indices]\n",
    "    y = y[shuffle_indices]\n",
    "    train_len = int(len(x) * 0.9)\n",
    "    x_train = x[:train_len]\n",
    "    y_train = y[:train_len]\n",
    "    x_test = x[train_len:]\n",
    "    y_test = y[train_len:]\n",
    "\n",
    "    return x_train, y_train, x_test, y_test, vocabulary, vocabulary_inv"
   ]
  },
  {
   "cell_type": "code",
   "execution_count": 151,
   "metadata": {
    "colab": {
     "base_uri": "https://localhost:8080/",
     "height": 170
    },
    "colab_type": "code",
    "id": "iJr7OHfKV8Lb",
    "outputId": "2a5e1202-0a67-49ad-c2e9-a6e50d0d3fe6"
   },
   "outputs": [
    {
     "name": "stdout",
     "output_type": "stream",
     "text": [
      "Load data...\n",
      "x_train shape: (4120, 67)\n",
      "x_test shape: (458, 67)\n",
      "Vocabulary Size: 15292\n"
     ]
    }
   ],
   "source": [
    "# Data Preparation\n",
    "print(\"Load data...\")\n",
    "x_train, y_train, x_test, y_test, vocabulary, vocabulary_inv = load_data()\n",
    "\n",
    "# if sequence_length != x_test.shape[1]:\n",
    "#     print(\"Adjusting sequence length for actual size\")\n",
    "#     sequence_length = x_test.shape[1]\n",
    "\n",
    "print(\"x_train shape:\", x_train.shape)\n",
    "print(\"x_test shape:\", x_test.shape)\n",
    "print(\"Vocabulary Size: {:d}\".format(len(vocabulary_inv)))"
   ]
  },
  {
   "cell_type": "code",
   "execution_count": 152,
   "metadata": {
    "colab": {},
    "colab_type": "code",
    "id": "iK-m-6X1Y1v-"
   },
   "outputs": [],
   "source": [
    "input_shape = (sequence_length,)\n",
    "\n",
    "model_input = Input(shape=input_shape)"
   ]
  },
  {
   "cell_type": "code",
   "execution_count": 153,
   "metadata": {
    "colab": {},
    "colab_type": "code",
    "id": "_EYs3sHlZ0xW"
   },
   "outputs": [],
   "source": [
    "z = Embedding(len(vocabulary_inv), embedding_dim, input_length=sequence_length, name=\"embedding\")(model_input)\n",
    "\n",
    "z = Dropout(dropout_prob[0])(z)"
   ]
  },
  {
   "cell_type": "code",
   "execution_count": 154,
   "metadata": {
    "colab": {},
    "colab_type": "code",
    "id": "Bj8Z5wT7Z26H"
   },
   "outputs": [],
   "source": [
    "# Convolutional block\n",
    "conv_blocks = []\n",
    "for sz in filter_sizes:\n",
    "    conv = Convolution1D(filters=num_filters,\n",
    "                         kernel_size=sz,\n",
    "                         padding=\"valid\",\n",
    "                         activation=\"relu\",\n",
    "                         strides=1)(z)\n",
    "    conv = MaxPooling1D(pool_size=2)(conv)\n",
    "    conv = Flatten()(conv)\n",
    "    conv_blocks.append(conv)\n",
    "    \n",
    "z = Concatenate()(conv_blocks) if len(conv_blocks) > 1 else conv_blocks[0]\n",
    "z = Dropout(dropout_prob[1])(z)\n",
    "z = Dense(hidden_dims, activation=\"relu\",kernel_regularizer=l2(0.1), bias_regularizer=l2(0.1))(z)\n",
    "z = Dropout(dropout_prob[0])(z)\n",
    "model_output = Dense(1, activation=\"sigmoid\")(z)\n",
    "model = Model(model_input, model_output)\n",
    "model.compile(loss=\"binary_crossentropy\", optimizer=\"adam\", metrics=[\"accuracy\"])"
   ]
  },
  {
   "cell_type": "code",
   "execution_count": 155,
   "metadata": {},
   "outputs": [
    {
     "name": "stdout",
     "output_type": "stream",
     "text": [
      "__________________________________________________________________________________________________\n",
      "Layer (type)                    Output Shape         Param #     Connected to                     \n",
      "==================================================================================================\n",
      "input_16 (InputLayer)           (None, 67)           0                                            \n",
      "__________________________________________________________________________________________________\n",
      "embedding (Embedding)           (None, 67, 50)       764600      input_16[0][0]                   \n",
      "__________________________________________________________________________________________________\n",
      "dropout_37 (Dropout)            (None, 67, 50)       0           embedding[0][0]                  \n",
      "__________________________________________________________________________________________________\n",
      "conv1d_32 (Conv1D)              (None, 65, 2)        302         dropout_37[0][0]                 \n",
      "__________________________________________________________________________________________________\n",
      "conv1d_33 (Conv1D)              (None, 64, 2)        402         dropout_37[0][0]                 \n",
      "__________________________________________________________________________________________________\n",
      "conv1d_34 (Conv1D)              (None, 63, 2)        502         dropout_37[0][0]                 \n",
      "__________________________________________________________________________________________________\n",
      "max_pooling1d_30 (MaxPooling1D) (None, 32, 2)        0           conv1d_32[0][0]                  \n",
      "__________________________________________________________________________________________________\n",
      "max_pooling1d_31 (MaxPooling1D) (None, 32, 2)        0           conv1d_33[0][0]                  \n",
      "__________________________________________________________________________________________________\n",
      "max_pooling1d_32 (MaxPooling1D) (None, 31, 2)        0           conv1d_34[0][0]                  \n",
      "__________________________________________________________________________________________________\n",
      "flatten_30 (Flatten)            (None, 64)           0           max_pooling1d_30[0][0]           \n",
      "__________________________________________________________________________________________________\n",
      "flatten_31 (Flatten)            (None, 64)           0           max_pooling1d_31[0][0]           \n",
      "__________________________________________________________________________________________________\n",
      "flatten_32 (Flatten)            (None, 62)           0           max_pooling1d_32[0][0]           \n",
      "__________________________________________________________________________________________________\n",
      "concatenate_15 (Concatenate)    (None, 190)          0           flatten_30[0][0]                 \n",
      "                                                                 flatten_31[0][0]                 \n",
      "                                                                 flatten_32[0][0]                 \n",
      "__________________________________________________________________________________________________\n",
      "dropout_38 (Dropout)            (None, 190)          0           concatenate_15[0][0]             \n",
      "__________________________________________________________________________________________________\n",
      "dense_28 (Dense)                (None, 20)           3820        dropout_38[0][0]                 \n",
      "__________________________________________________________________________________________________\n",
      "dropout_39 (Dropout)            (None, 20)           0           dense_28[0][0]                   \n",
      "__________________________________________________________________________________________________\n",
      "dense_29 (Dense)                (None, 1)            21          dropout_39[0][0]                 \n",
      "==================================================================================================\n",
      "Total params: 769,647\n",
      "Trainable params: 769,647\n",
      "Non-trainable params: 0\n",
      "__________________________________________________________________________________________________\n"
     ]
    }
   ],
   "source": [
    "model.summary()"
   ]
  },
  {
   "cell_type": "code",
   "execution_count": 156,
   "metadata": {
    "colab": {},
    "colab_type": "code",
    "id": "hW1cjiuwZ-8v",
    "scrolled": false
   },
   "outputs": [
    {
     "name": "stdout",
     "output_type": "stream",
     "text": [
      "Train on 4120 samples, validate on 458 samples\n",
      "Epoch 1/50\n",
      " - 4s - loss: 1.5381 - acc: 0.5998 - val_loss: 0.7030 - val_acc: 0.6266\n",
      "Epoch 2/50\n",
      " - 3s - loss: 0.6725 - acc: 0.6386 - val_loss: 0.6689 - val_acc: 0.6266\n",
      "Epoch 3/50\n",
      " - 2s - loss: 0.6654 - acc: 0.6386 - val_loss: 0.6672 - val_acc: 0.6266\n",
      "Epoch 4/50\n",
      " - 2s - loss: 0.6625 - acc: 0.6386 - val_loss: 0.6642 - val_acc: 0.6266\n",
      "Epoch 5/50\n",
      " - 2s - loss: 0.6608 - acc: 0.6386 - val_loss: 0.6643 - val_acc: 0.6266\n",
      "Epoch 6/50\n",
      " - 2s - loss: 0.6600 - acc: 0.6386 - val_loss: 0.6641 - val_acc: 0.6266\n",
      "Epoch 7/50\n",
      " - 2s - loss: 0.6589 - acc: 0.6386 - val_loss: 0.6635 - val_acc: 0.6266\n",
      "Epoch 8/50\n",
      " - 2s - loss: 0.6587 - acc: 0.6386 - val_loss: 0.6626 - val_acc: 0.6266\n",
      "Epoch 9/50\n",
      " - 2s - loss: 0.6574 - acc: 0.6383 - val_loss: 0.6660 - val_acc: 0.6266\n",
      "Epoch 10/50\n",
      " - 2s - loss: 0.6582 - acc: 0.6383 - val_loss: 0.6653 - val_acc: 0.6266\n",
      "Epoch 11/50\n",
      " - 2s - loss: 0.6520 - acc: 0.6447 - val_loss: 0.6665 - val_acc: 0.6266\n",
      "Epoch 12/50\n",
      " - 2s - loss: 0.6386 - acc: 0.6740 - val_loss: 0.6668 - val_acc: 0.6594\n",
      "Epoch 13/50\n",
      " - 2s - loss: 0.6114 - acc: 0.7243 - val_loss: 0.6828 - val_acc: 0.6681\n",
      "Epoch 14/50\n",
      " - 2s - loss: 0.5838 - acc: 0.7551 - val_loss: 0.6763 - val_acc: 0.6638\n",
      "Epoch 15/50\n",
      " - 2s - loss: 0.5390 - acc: 0.7883 - val_loss: 0.7136 - val_acc: 0.6572\n",
      "Epoch 16/50\n",
      " - 2s - loss: 0.5221 - acc: 0.7983 - val_loss: 0.7009 - val_acc: 0.6397\n",
      "Epoch 17/50\n",
      " - 2s - loss: 0.4713 - acc: 0.8240 - val_loss: 0.7162 - val_acc: 0.6616\n",
      "Epoch 18/50\n",
      " - 2s - loss: 0.4478 - acc: 0.8398 - val_loss: 0.7232 - val_acc: 0.6441\n",
      "Epoch 19/50\n",
      " - 2s - loss: 0.4303 - acc: 0.8549 - val_loss: 0.7485 - val_acc: 0.6528\n",
      "Epoch 20/50\n",
      " - 2s - loss: 0.4163 - acc: 0.8527 - val_loss: 0.7605 - val_acc: 0.6419\n",
      "Epoch 21/50\n",
      " - 2s - loss: 0.3965 - acc: 0.8694 - val_loss: 0.7876 - val_acc: 0.6354\n",
      "Epoch 22/50\n",
      " - 2s - loss: 0.3686 - acc: 0.8791 - val_loss: 0.7744 - val_acc: 0.6419\n",
      "Epoch 23/50\n",
      " - 2s - loss: 0.3543 - acc: 0.8786 - val_loss: 0.8581 - val_acc: 0.6485\n",
      "Epoch 24/50\n",
      " - 2s - loss: 0.3437 - acc: 0.8881 - val_loss: 0.8696 - val_acc: 0.6288\n",
      "Epoch 25/50\n",
      " - 2s - loss: 0.3407 - acc: 0.8961 - val_loss: 0.8400 - val_acc: 0.6310\n",
      "Epoch 26/50\n",
      " - 2s - loss: 0.3318 - acc: 0.8864 - val_loss: 0.8778 - val_acc: 0.6157\n",
      "Epoch 27/50\n",
      " - 2s - loss: 0.3269 - acc: 0.8922 - val_loss: 0.8653 - val_acc: 0.6354\n",
      "Epoch 28/50\n",
      " - 2s - loss: 0.3183 - acc: 0.8998 - val_loss: 0.9205 - val_acc: 0.6332\n",
      "Epoch 29/50\n",
      " - 2s - loss: 0.3055 - acc: 0.9027 - val_loss: 0.9285 - val_acc: 0.6441\n",
      "Epoch 30/50\n",
      " - 2s - loss: 0.2850 - acc: 0.9092 - val_loss: 0.9381 - val_acc: 0.6376\n",
      "Epoch 31/50\n",
      " - 2s - loss: 0.2851 - acc: 0.9163 - val_loss: 0.9882 - val_acc: 0.6332\n",
      "Epoch 32/50\n",
      " - 2s - loss: 0.2706 - acc: 0.9146 - val_loss: 1.0319 - val_acc: 0.6201\n",
      "Epoch 33/50\n",
      " - 2s - loss: 0.2803 - acc: 0.9136 - val_loss: 1.0284 - val_acc: 0.6288\n",
      "Epoch 34/50\n",
      " - 2s - loss: 0.2792 - acc: 0.9070 - val_loss: 1.0489 - val_acc: 0.6354\n",
      "Epoch 35/50\n",
      " - 2s - loss: 0.2651 - acc: 0.9218 - val_loss: 1.0541 - val_acc: 0.6114\n",
      "Epoch 36/50\n",
      " - 2s - loss: 0.2627 - acc: 0.9163 - val_loss: 1.0843 - val_acc: 0.6201\n",
      "Epoch 37/50\n",
      " - 2s - loss: 0.2584 - acc: 0.9245 - val_loss: 1.0866 - val_acc: 0.6245\n",
      "Epoch 38/50\n",
      " - 2s - loss: 0.2606 - acc: 0.9160 - val_loss: 1.1320 - val_acc: 0.6245\n",
      "Epoch 39/50\n",
      " - 2s - loss: 0.2563 - acc: 0.9199 - val_loss: 1.1926 - val_acc: 0.6179\n",
      "Epoch 40/50\n",
      " - 2s - loss: 0.2443 - acc: 0.9248 - val_loss: 1.1717 - val_acc: 0.6332\n",
      "Epoch 41/50\n",
      " - 2s - loss: 0.2595 - acc: 0.9177 - val_loss: 1.1496 - val_acc: 0.6266\n",
      "Epoch 42/50\n",
      " - 2s - loss: 0.2316 - acc: 0.9323 - val_loss: 1.2148 - val_acc: 0.6114\n",
      "Epoch 43/50\n",
      " - 2s - loss: 0.2410 - acc: 0.9301 - val_loss: 1.2249 - val_acc: 0.6266\n",
      "Epoch 44/50\n",
      " - 2s - loss: 0.2475 - acc: 0.9240 - val_loss: 1.2053 - val_acc: 0.6223\n",
      "Epoch 45/50\n",
      " - 2s - loss: 0.2475 - acc: 0.9277 - val_loss: 1.1792 - val_acc: 0.6135\n",
      "Epoch 46/50\n",
      " - 2s - loss: 0.2485 - acc: 0.9218 - val_loss: 1.2097 - val_acc: 0.6179\n",
      "Epoch 47/50\n",
      " - 2s - loss: 0.2328 - acc: 0.9289 - val_loss: 1.2658 - val_acc: 0.6179\n",
      "Epoch 48/50\n",
      " - 2s - loss: 0.2311 - acc: 0.9286 - val_loss: 1.2610 - val_acc: 0.6354\n",
      "Epoch 49/50\n",
      " - 2s - loss: 0.2312 - acc: 0.9323 - val_loss: 1.2531 - val_acc: 0.6201\n",
      "Epoch 50/50\n",
      " - 2s - loss: 0.2370 - acc: 0.9216 - val_loss: 1.2924 - val_acc: 0.6332\n"
     ]
    }
   ],
   "source": [
    "# Train the model\n",
    "history = model.fit(x_train, y_train, batch_size=batch_size, epochs=num_epochs,\n",
    "          validation_data=(x_test, y_test), verbose=2)"
   ]
  },
  {
   "cell_type": "code",
   "execution_count": null,
   "metadata": {
    "colab": {},
    "colab_type": "code",
    "id": "Pgq18xwSaQUX"
   },
   "outputs": [],
   "source": [
    "# list all data in history\n",
    "print(history.history.keys())"
   ]
  },
  {
   "cell_type": "code",
   "execution_count": 28,
   "metadata": {
    "colab": {},
    "colab_type": "code",
    "id": "Pgq18xwSaQUX"
   },
   "outputs": [
    {
     "data": {
      "image/png": "[encoded data removed]",
      "text/plain": [
       "<Figure size 432x288 with 1 Axes>"
      ]
     },
     "metadata": {
      "needs_background": "light"
     },
     "output_type": "display_data"
    }
   ],
   "source": [
    "# summarize history for accuracy\n",
    "plt.plot(history.history['acc'])\n",
    "plt.plot(history.history['val_acc'])\n",
    "plt.title('model accuracy')\n",
    "plt.ylabel('accuracy')\n",
    "plt.xlabel('epoch')\n",
    "plt.legend(['train', 'test'], loc='upper left')\n",
    "plt.show()"
   ]
  },
  {
   "cell_type": "code",
   "execution_count": 29,
   "metadata": {
    "colab": {},
    "colab_type": "code",
    "id": "Pgq18xwSaQUX"
   },
   "outputs": [
    {
     "data": {
      "image/png": "[encoded data removed]",
      "text/plain": [
       "<Figure size 432x288 with 1 Axes>"
      ]
     },
     "metadata": {
      "needs_background": "light"
     },
     "output_type": "display_data"
    }
   ],
   "source": [
    "# summarize history for loss\n",
    "plt.plot(history.history['loss'])\n",
    "plt.plot(history.history['val_loss'])\n",
    "plt.title('model loss')\n",
    "plt.ylabel('loss')\n",
    "plt.xlabel('epoch')\n",
    "plt.legend(['train', 'test'], loc='upper left')\n",
    "plt.show()"
   ]
  },
  {
   "cell_type": "code",
   "execution_count": 30,
   "metadata": {},
   "outputs": [],
   "source": [
    "test_sentence = \"Rape\""
   ]
  },
  {
   "cell_type": "code",
   "execution_count": 31,
   "metadata": {},
   "outputs": [],
   "source": [
    "def prepare_new_sentence(sentence):\n",
    "    \n",
    "    #Load Vocabulary\n",
    "    _, _, _, _, vocabulary, vocabulary_inv = load_data()\n",
    "    \n",
    "    #Data Pre Processing\n",
    "#     sentence = clean_str(sentence)\n",
    "#     sentence = removeNonAscii(sentence)\n",
    "#     sentence = sentence.strip()\n",
    "    sentence = clean(sentence)\n",
    "    sentence = sentence.split(\" \")\n",
    "    \n",
    "    #Padding\n",
    "    sequence_length = 67\n",
    "    num_padding = sequence_length - len(sentence)\n",
    "    sentence = sentence + [\"<PAD/>\"] * num_padding\n",
    "    \n",
    "    #print(sentence)\n",
    "    \n",
    "    x_new = np.array([vocabulary[word] for word in sentence])\n",
    "    \n",
    "    return x_new"
   ]
  },
  {
   "cell_type": "code",
   "execution_count": 32,
   "metadata": {},
   "outputs": [],
   "source": [
    "x_new = prepare_new_sentence(test_sentence)"
   ]
  },
  {
   "cell_type": "code",
   "execution_count": 33,
   "metadata": {},
   "outputs": [
    {
     "name": "stdout",
     "output_type": "stream",
     "text": [
      "[[0.4044397]]\n",
      "No\n"
     ]
    }
   ],
   "source": [
    "# x_new = x_test[2]\n",
    "\n",
    "y_new = model.predict(np.array([x_new,]))\n",
    "\n",
    "print(y_new)\n",
    "\n",
    "if(np.round(y_new) == 1):\n",
    "    print(\"Yes\")\n",
    "\n",
    "else:\n",
    "    print(\"No\")"
   ]
  }
 ],
 "metadata": {
  "kernelspec": {
   "display_name": "Python 3",
   "language": "python",
   "name": "python3"
  },
  "language_info": {
   "codemirror_mode": {
    "name": "ipython",
    "version": 3
   },
   "file_extension": ".py",
   "mimetype": "text/x-python",
   "name": "python",
   "nbconvert_exporter": "python",
   "pygments_lexer": "ipython3",
   "version": "3.6.7"
  }
 },
 "nbformat": 4,
 "nbformat_minor": 2
}
